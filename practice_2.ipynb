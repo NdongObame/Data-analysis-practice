{
 "cells": [
  {
   "cell_type": "code",
   "execution_count": 1,
   "id": "74ba3915-b167-44bf-924b-20c1cb2f536d",
   "metadata": {},
   "outputs": [],
   "source": [
    "import pandas as pd\n",
    "import seaborn as sns\n",
    "import numpy as np\n",
    "import matplotlib.pyplot as plt\n",
    "import statsmodels.api as sm"
   ]
  },
  {
   "cell_type": "code",
   "execution_count": 2,
   "id": "63851ca8-3114-438d-bde1-de14bd70371f",
   "metadata": {
    "tags": []
   },
   "outputs": [
    {
     "name": "stdout",
     "output_type": "stream",
     "text": [
      "::\n",
      "\n",
      "    Number of observations - 944\n",
      "    Number of variables - 10\n",
      "\n",
      "    Variables name definitions::\n",
      "\n",
      "            popul - Census place population in 1000s\n",
      "            TVnews - Number of times per week that respondent watches TV news.\n",
      "            PID - Party identification of respondent.\n",
      "                0 - Strong Democrat\n",
      "                1 - Weak Democrat\n",
      "                2 - Independent-Democrat\n",
      "                3 - Independent-Indpendent\n",
      "                4 - Independent-Republican\n",
      "                5 - Weak Republican\n",
      "                6 - Strong Republican\n",
      "            age : Age of respondent.\n",
      "            educ - Education level of respondent\n",
      "                1 - 1-8 grades\n",
      "                2 - Some high school\n",
      "                3 - High school graduate\n",
      "                4 - Some college\n",
      "                5 - College degree\n",
      "                6 - Master's degree\n",
      "                7 - PhD\n",
      "            income - Income of household\n",
      "                1  - None or less than $2,999\n",
      "                2  - $3,000-$4,999\n",
      "                3  - $5,000-$6,999\n",
      "                4  - $7,000-$8,999\n",
      "                5  - $9,000-$9,999\n",
      "                6  - $10,000-$10,999\n",
      "                7  - $11,000-$11,999\n",
      "                8  - $12,000-$12,999\n",
      "                9  - $13,000-$13,999\n",
      "                10 - $14,000-$14.999\n",
      "                11 - $15,000-$16,999\n",
      "                12 - $17,000-$19,999\n",
      "                13 - $20,000-$21,999\n",
      "                14 - $22,000-$24,999\n",
      "                15 - $25,000-$29,999\n",
      "                16 - $30,000-$34,999\n",
      "                17 - $35,000-$39,999\n",
      "                18 - $40,000-$44,999\n",
      "                19 - $45,000-$49,999\n",
      "                20 - $50,000-$59,999\n",
      "                21 - $60,000-$74,999\n",
      "                22 - $75,000-89,999\n",
      "                23 - $90,000-$104,999\n",
      "                24 - $105,000 and over\n",
      "            vote - Expected vote\n",
      "                0 - Clinton\n",
      "                1 - Dole\n",
      "            The following 3 variables all take the values:\n",
      "                1 - Extremely liberal\n",
      "                2 - Liberal\n",
      "                3 - Slightly liberal\n",
      "                4 - Moderate\n",
      "                5 - Slightly conservative\n",
      "                6 - Conservative\n",
      "                7 - Extremely Conservative\n",
      "            selfLR - Respondent's self-reported political leanings from \"Left\"\n",
      "                to \"Right\".\n",
      "            ClinLR - Respondents impression of Bill Clinton's political\n",
      "                leanings from \"Left\" to \"Right\".\n",
      "            DoleLR  - Respondents impression of Bob Dole's political leanings\n",
      "                from \"Left\" to \"Right\".\n",
      "            logpopul - log(popul + .1)\n",
      "\n"
     ]
    }
   ],
   "source": [
    "anes96 = sm.datasets.anes96\n",
    "print(anes96.NOTE)"
   ]
  },
  {
   "cell_type": "code",
   "execution_count": 3,
   "id": "1e2681c0-9f1c-4669-bcd3-9ac2c5731c52",
   "metadata": {},
   "outputs": [],
   "source": [
    "dataset_anes96 = anes96.load_pandas()\n",
    "df = dataset_anes96.data"
   ]
  },
  {
   "cell_type": "markdown",
   "id": "c0aae2fb-8509-4485-a5b7-7a9964690abb",
   "metadata": {},
   "source": [
    "## 1. DataFrame Basic Properties Exercise\n",
    "\n",
    "Our DataFrame (`df`) contains data on registered voters in the United States, including demographic information and political preference. Using `pandas`, print the first 5 rows of the DataFrame to get a sense of what the data looks like. Next, answer the following questions:\n",
    "\n",
    "\n",
    "*   How many observations are in the DataFrame?\n",
    "*   How many variables are measured (how many columns)?\n",
    "*   What is the age of the youngest person in the data? The oldest?\n",
    "*   How many days a week does the average respondent watch TV news (round to the nearest tenth)?\n",
    "*   Check for missing values. Are there any?\n"
   ]
  },
  {
   "cell_type": "code",
   "execution_count": 4,
   "id": "a1e3a4bc-b90f-41ab-afe7-accb8361de30",
   "metadata": {},
   "outputs": [
    {
     "name": "stdout",
     "output_type": "stream",
     "text": [
      "<class 'pandas.core.frame.DataFrame'>\n",
      "RangeIndex: 944 entries, 0 to 943\n",
      "Data columns (total 11 columns):\n",
      " #   Column    Non-Null Count  Dtype  \n",
      "---  ------    --------------  -----  \n",
      " 0   popul     944 non-null    float64\n",
      " 1   TVnews    944 non-null    float64\n",
      " 2   selfLR    944 non-null    float64\n",
      " 3   ClinLR    944 non-null    float64\n",
      " 4   DoleLR    944 non-null    float64\n",
      " 5   PID       944 non-null    float64\n",
      " 6   age       944 non-null    float64\n",
      " 7   educ      944 non-null    float64\n",
      " 8   income    944 non-null    float64\n",
      " 9   vote      944 non-null    float64\n",
      " 10  logpopul  944 non-null    float64\n",
      "dtypes: float64(11)\n",
      "memory usage: 81.2 KB\n"
     ]
    }
   ],
   "source": [
    "df.info()"
   ]
  },
  {
   "cell_type": "code",
   "execution_count": 5,
   "id": "a2d77dab-1675-4d57-a93e-2006a5cd45fb",
   "metadata": {},
   "outputs": [
    {
     "data": {
      "text/plain": [
       "19.0"
      ]
     },
     "execution_count": 5,
     "metadata": {},
     "output_type": "execute_result"
    }
   ],
   "source": [
    "df.age.min()"
   ]
  },
  {
   "cell_type": "code",
   "execution_count": 6,
   "id": "83366659-a3ac-494d-834f-76779a24981e",
   "metadata": {},
   "outputs": [
    {
     "data": {
      "text/plain": [
       "91.0"
      ]
     },
     "execution_count": 6,
     "metadata": {},
     "output_type": "execute_result"
    }
   ],
   "source": [
    "df.age.max()"
   ]
  },
  {
   "cell_type": "code",
   "execution_count": 7,
   "id": "297192a2-ae1e-4d91-9412-1982a91ff03c",
   "metadata": {},
   "outputs": [
    {
     "data": {
      "text/plain": [
       "3.7"
      ]
     },
     "execution_count": 7,
     "metadata": {},
     "output_type": "execute_result"
    }
   ],
   "source": [
    "df.TVnews.mean().round(1)"
   ]
  },
  {
   "cell_type": "code",
   "execution_count": 8,
   "id": "201edc77-94c9-477f-a87c-2c5ba6862d41",
   "metadata": {},
   "outputs": [
    {
     "data": {
      "text/plain": [
       "0"
      ]
     },
     "execution_count": 8,
     "metadata": {},
     "output_type": "execute_result"
    }
   ],
   "source": [
    "df.isna().sum().sum()"
   ]
  },
  {
   "cell_type": "markdown",
   "id": "69bbe077-010d-4fbc-9fd4-660a4f2db86c",
   "metadata": {},
   "source": [
    "**There is 944 observations, no missing values and, there is 11 variables. The youngest person is 19 and the oldest 91. the respondent watch news in average 3.7 days per week.**"
   ]
  },
  {
   "cell_type": "markdown",
   "id": "c1a6b9d3-299b-4331-86cb-5da843b42945",
   "metadata": {},
   "source": [
    "## 2. Data Processing Exercise\n",
    "\n",
    "We want to adjust the dataset for our use. Do the following:\n",
    "\n",
    "\n",
    "*   Rename the `educ` column `education`.\n",
    "*   Create a new column called `party` based on each respondent's answer to `PID`. `party` should equal `Democrat` if the respondent selected either Strong Democrat or Weak Democrat. `party` will equal `Republican` if the respondent selected Strong or Weak Republican for `PID` and `Independent` if they selected anything else.\n",
    "*   Create a new column called `age_group` that buckets respondents into the following categories based on their `age`: 18-24, 25-34, 35-44, 45-54, 55-64, and 65 and over. \n",
    "\n"
   ]
  },
  {
   "cell_type": "code",
   "execution_count": 9,
   "id": "7af12741-6424-4faf-bacd-1b4d95c0e2bf",
   "metadata": {},
   "outputs": [],
   "source": [
    "df = df.rename(columns = {'educ':'education'})"
   ]
  },
  {
   "cell_type": "code",
   "execution_count": 10,
   "id": "c69da5dd-6515-46d9-ac73-50b8a2865a1e",
   "metadata": {},
   "outputs": [],
   "source": [
    "df[\"party\"] = df.PID.copy()"
   ]
  },
  {
   "cell_type": "code",
   "execution_count": 11,
   "id": "ba02812b-e7c7-4337-bd37-630018e518dc",
   "metadata": {},
   "outputs": [],
   "source": [
    "df.loc[df.party.isin([0,1,2]), \"party\"] = \"democrat\""
   ]
  },
  {
   "cell_type": "code",
   "execution_count": 12,
   "id": "357ea375-200e-47fd-a88a-495864421e1c",
   "metadata": {},
   "outputs": [],
   "source": [
    "df.loc[df.party == 3, \"party\"] = \"independent\""
   ]
  },
  {
   "cell_type": "code",
   "execution_count": 13,
   "id": "95586d9a-696a-4a1c-b732-9e5636c4f987",
   "metadata": {},
   "outputs": [],
   "source": [
    "df.loc[df.party.isin([4,5,6]), \"party\"] = \"republican\""
   ]
  },
  {
   "cell_type": "code",
   "execution_count": 22,
   "id": "b8c9f512-9ee3-4abd-a829-dddfe361ca47",
   "metadata": {},
   "outputs": [
    {
     "data": {
      "image/png": "[encoded data removed]",
      "text/plain": [
       "<Figure size 640x480 with 1 Axes>"
      ]
     },
     "metadata": {},
     "output_type": "display_data"
    }
   ],
   "source": [
    "plt.pie(x = df.party.value_counts(), shadow = True, labels = df.party.value_counts().index )\n",
    "plt.title('Party identification of respondent')\n",
    "plt.show()"
   ]
  },
  {
   "cell_type": "code",
   "execution_count": 15,
   "id": "168564fd-6bec-4129-a9c1-63bfa5de19dd",
   "metadata": {},
   "outputs": [],
   "source": [
    "df['age_group'] = df.age.copy()"
   ]
  },
  {
   "cell_type": "code",
   "execution_count": 16,
   "id": "bcbdd15b-932d-4ab2-a21f-531bfdb9b897",
   "metadata": {},
   "outputs": [],
   "source": [
    "df.loc[df.age_group.isin(np.arange(18,25)), 'age_group'] = '18-24'"
   ]
  },
  {
   "cell_type": "code",
   "execution_count": 17,
   "id": "3d9fb6be-f52c-484f-bc2f-885121198d51",
   "metadata": {},
   "outputs": [],
   "source": [
    "df.loc[df.age_group.isin(np.arange(25,35)), 'age_group'] = '25-34'"
   ]
  },
  {
   "cell_type": "code",
   "execution_count": 18,
   "id": "5dfed404-1ad1-460d-9f78-4913e6674ff1",
   "metadata": {},
   "outputs": [],
   "source": [
    "df.loc[df.age_group.isin(np.arange(35,45)), 'age_group'] = '35-44'\n",
    "df.loc[df.age_group.isin(np.arange(45,55)), 'age_group'] = '45-54'\n",
    "df.loc[df.age_group.isin(np.arange(55,65)), 'age_group'] = '55-64'\n",
    "df.loc[df.age_group.isin(np.arange(65,150)) , 'age_group'] = '65 and over'"
   ]
  },
  {
   "cell_type": "code",
   "execution_count": 20,
   "id": "bf952aa1-84a8-4f0c-9d10-b2b48af533ee",
   "metadata": {},
   "outputs": [
    {
     "data": {
      "text/plain": [
       "<AxesSubplot: xlabel='age_group', ylabel='count'>"
      ]
     },
     "execution_count": 20,
     "metadata": {},
     "output_type": "execute_result"
    },
    {
     "data": {
      "image/png": "[encoded data removed]",
      "text/plain": [
       "<Figure size 640x480 with 1 Axes>"
      ]
     },
     "metadata": {},
     "output_type": "display_data"
    }
   ],
   "source": [
    "sns.set_style(\"darkgrid\")\n",
    "sns.countplot(x = 'age_group', data =df)"
   ]
  },
  {
   "cell_type": "markdown",
   "id": "5b6317da-a344-4477-b311-f36bffd5ad3c",
   "metadata": {},
   "source": [
    "## 3. Filtering Data Exercise\n",
    "\n",
    "Use the filtering method to find all the respondents who have the impression that Bill Clinton is moderate or conservative (`ClinLR` equals 4 or higher). How many respondents are in this subset? \n",
    "\n",
    "Among these respondents, how many have a household income less than $50,000 and attended at least some college?"
   ]
  },
  {
   "cell_type": "code",
   "execution_count": 23,
   "id": "6bcd8b37-df65-47a5-8608-efe498c2874b",
   "metadata": {},
   "outputs": [
    {
     "data": {
      "text/plain": [
       "popul        282\n",
       "TVnews       282\n",
       "selfLR       282\n",
       "ClinLR       282\n",
       "DoleLR       282\n",
       "PID          282\n",
       "age          282\n",
       "education    282\n",
       "income       282\n",
       "vote         282\n",
       "logpopul     282\n",
       "party        282\n",
       "age_group    282\n",
       "dtype: int64"
      ]
     },
     "execution_count": 23,
     "metadata": {},
     "output_type": "execute_result"
    }
   ],
   "source": [
    "df[df.ClinLR >= 4].count()"
   ]
  },
  {
   "cell_type": "code",
   "execution_count": 24,
   "id": "2b6a1417-7fe4-4fd0-88de-00a5e2147065",
   "metadata": {},
   "outputs": [
    {
     "data": {
      "text/plain": [
       "popul        98\n",
       "TVnews       98\n",
       "selfLR       98\n",
       "ClinLR       98\n",
       "DoleLR       98\n",
       "PID          98\n",
       "age          98\n",
       "education    98\n",
       "income       98\n",
       "vote         98\n",
       "logpopul     98\n",
       "party        98\n",
       "age_group    98\n",
       "dtype: int64"
      ]
     },
     "execution_count": 24,
     "metadata": {},
     "output_type": "execute_result"
    }
   ],
   "source": [
    "df[(df.ClinLR >= 4) & (df.income < 20) & (df.education > 3)].count()"
   ]
  },
  {
   "cell_type": "markdown",
   "id": "a5d8bb1a-40ae-46f5-8f32-84e21685789f",
   "metadata": {},
   "source": [
    "## 4. Calculating From Data Exercise\n",
    "\n",
    "For each of the below match-ups, choose the group that is more likely to vote for Bill Clinton. You can calculate this using the percentage of each group that intends to vote for Clinton (`vote`). Which match-up was the closest? Which had the biggest difference?\n",
    "\n",
    "Another way to think about this: Given that a respondent is a Democrat, there is a ____ percent chance they will vote for Clinton. How does this value change if the respondent is a Republican?\n",
    "\n",
    "*   Democrats or Republicans\n",
    "*   People younger than 44 or People 44 and older\n",
    "*   People who watch TV news at least 6 days a week or People who watch TV news less than 3 days a week"
   ]
  },
  {
   "cell_type": "markdown",
   "id": "b1be21c4-2ab7-4b55-a438-751bb70a0438",
   "metadata": {},
   "source": [
    "Democrats or Republicans"
   ]
  },
  {
   "cell_type": "code",
   "execution_count": 25,
   "id": "103ca847-d44f-4312-a685-e35cd4dd937d",
   "metadata": {},
   "outputs": [
    {
     "data": {
      "text/plain": [
       "13.84"
      ]
     },
     "execution_count": 25,
     "metadata": {},
     "output_type": "execute_result"
    }
   ],
   "source": [
    "((df.party[(df.party == 'republican') & (df.vote == 0)].count()/df.party[(df.party == 'republican')].count())*100).round(2)"
   ]
  },
  {
   "cell_type": "code",
   "execution_count": 26,
   "id": "a5507d0a-cf73-4f2d-92f7-e2e62b6bbef3",
   "metadata": {},
   "outputs": [
    {
     "data": {
      "text/plain": [
       "95.7"
      ]
     },
     "execution_count": 26,
     "metadata": {},
     "output_type": "execute_result"
    }
   ],
   "source": [
    "((df.party[(df.party == 'democrat') & (df.vote == 0)].count()/df.party[(df.party == 'democrat')].count())*100).round(2)"
   ]
  },
  {
   "cell_type": "markdown",
   "id": "5c51feec-d36b-4e2d-a4b9-e2fd74fda67e",
   "metadata": {},
   "source": [
    "People younger than 44 or People 44 and older"
   ]
  },
  {
   "cell_type": "code",
   "execution_count": 27,
   "id": "31504f0c-5745-4c06-afe8-f0305a511514",
   "metadata": {},
   "outputs": [
    {
     "data": {
      "text/plain": [
       "57.29"
      ]
     },
     "execution_count": 27,
     "metadata": {},
     "output_type": "execute_result"
    }
   ],
   "source": [
    "((df.party[(df.age >= 44) & (df.vote == 0)].count()/df.party[(df.age >= 44)].count())*100).round(2)"
   ]
  },
  {
   "cell_type": "code",
   "execution_count": 28,
   "id": "0c3b0b92-3fc0-4e1e-aa4d-0450a7b44c97",
   "metadata": {},
   "outputs": [
    {
     "data": {
      "text/plain": [
       "59.75"
      ]
     },
     "execution_count": 28,
     "metadata": {},
     "output_type": "execute_result"
    }
   ],
   "source": [
    "((df.party[(df.age <= 44) & (df.vote == 0)].count()/df.party[(df.age <= 44)].count())*100).round(2)"
   ]
  },
  {
   "cell_type": "markdown",
   "id": "8be52ecf-9952-4d74-a513-288c1073ea6a",
   "metadata": {},
   "source": [
    "People who watch TV news at least 6 days a week or People who watch TV news less than 3 days a week"
   ]
  },
  {
   "cell_type": "code",
   "execution_count": 29,
   "id": "6d7df6a6-b132-4a45-aaef-113e0d6e84e5",
   "metadata": {},
   "outputs": [
    {
     "data": {
      "text/plain": [
       "55.5"
      ]
     },
     "execution_count": 29,
     "metadata": {},
     "output_type": "execute_result"
    }
   ],
   "source": [
    "((df.party[(df.TVnews < 3) & (df.vote == 0)].count()/df.party[(df.TVnews < 3)].count())*100).round(2)"
   ]
  },
  {
   "cell_type": "code",
   "execution_count": 30,
   "id": "fd06dc3b-4463-434e-bbac-f74e9472a5ba",
   "metadata": {},
   "outputs": [
    {
     "data": {
      "text/plain": [
       "57.81"
      ]
     },
     "execution_count": 30,
     "metadata": {},
     "output_type": "execute_result"
    }
   ],
   "source": [
    "((df.party[(df.TVnews >= 6) & (df.vote == 0)].count()/df.party[(df.TVnews >= 6)].count())*100).round(2)"
   ]
  },
  {
   "cell_type": "markdown",
   "id": "43a782a3-b9ee-4b1c-bfa3-d85d3612d455",
   "metadata": {},
   "source": [
    "## 5. Grouping Data Exercise\n",
    "\n",
    "Use the `groupby()` method to bucket respondents by `age_group`. Which age group watches TV news the least?"
   ]
  },
  {
   "cell_type": "code",
   "execution_count": 31,
   "id": "4fd8cd87-d8db-40a8-813c-408fc740c677",
   "metadata": {},
   "outputs": [
    {
     "data": {
      "text/plain": [
       "age_group\n",
       "18-24          125.0\n",
       "25-34          473.0\n",
       "55-64          560.0\n",
       "45-54          658.0\n",
       "35-44          764.0\n",
       "65 and over    939.0\n",
       "Name: TVnews, dtype: float64"
      ]
     },
     "execution_count": 31,
     "metadata": {},
     "output_type": "execute_result"
    }
   ],
   "source": [
    "df.groupby(\"age_group\").TVnews.sum().sort_values()"
   ]
  },
  {
   "cell_type": "code",
   "execution_count": null,
   "id": "6f389782-e834-4488-962a-3e6e19934043",
   "metadata": {},
   "outputs": [],
   "source": []
  }
 ],
 "metadata": {
  "kernelspec": {
   "display_name": "Python 3 (ipykernel)",
   "language": "python",
   "name": "python3"
  },
  "language_info": {
   "codemirror_mode": {
    "name": "ipython",
    "version": 3
   },
   "file_extension": ".py",
   "mimetype": "text/x-python",
   "name": "python",
   "nbconvert_exporter": "python",
   "pygments_lexer": "ipython3",
   "version": "3.11.1"
  }
 },
 "nbformat": 4,
 "nbformat_minor": 5
}
